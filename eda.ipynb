{
 "cells": [
  {
   "cell_type": "markdown",
   "id": "14079d90",
   "metadata": {},
   "source": [
    "Problem Statement : This project understands how the students performance (test scores) is affected by other variables such as Gender, Ethnicity, Parental level of education, Lunch & Test preparation score."
   ]
  },
  {
   "cell_type": "markdown",
   "id": "c1f699a9",
   "metadata": {},
   "source": [
    "###### import data and packages"
   ]
  },
  {
   "cell_type": "code",
   "execution_count": 1,
   "id": "a22b1e34",
   "metadata": {},
   "outputs": [],
   "source": [
    "import numpy as np\n",
    "import pandas as pd\n",
    "import seaborn as sns\n",
    "import matplotlib.pyplot as plt\n",
    "%matplotlib inline\n",
    "import warnings\n",
    "warnings.filterwarnings('ignore')"
   ]
  },
  {
   "cell_type": "code",
   "execution_count": null,
   "id": "d72a1792",
   "metadata": {},
   "outputs": [],
   "source": []
  },
  {
   "cell_type": "code",
   "execution_count": null,
   "id": "1c8f993d",
   "metadata": {},
   "outputs": [],
   "source": []
  }
 ],
 "metadata": {
  "kernelspec": {
   "display_name": "Python 3 (ipykernel)",
   "language": "python",
   "name": "python3"
  },
  "language_info": {
   "codemirror_mode": {
    "name": "ipython",
    "version": 3
   },
   "file_extension": ".py",
   "mimetype": "text/x-python",
   "name": "python",
   "nbconvert_exporter": "python",
   "pygments_lexer": "ipython3",
   "version": "3.10.9"
  }
 },
 "nbformat": 4,
 "nbformat_minor": 5
}
